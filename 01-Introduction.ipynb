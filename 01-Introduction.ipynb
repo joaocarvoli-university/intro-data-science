{
 "cells": [
  {
   "cell_type": "markdown",
   "id": "rotary-macro",
   "metadata": {},
   "source": [
    "# Introduction"
   ]
  },
  {
   "cell_type": "code",
   "execution_count": 4,
   "id": "abandoned-subdivision",
   "metadata": {},
   "outputs": [
    {
     "name": "stdout",
     "output_type": "stream",
     "text": [
      "Hello, world!\n"
     ]
    }
   ],
   "source": [
    "print('Hello, world!')"
   ]
  },
  {
   "cell_type": "code",
   "execution_count": 5,
   "id": "broad-relations",
   "metadata": {},
   "outputs": [
    {
     "name": "stdout",
     "output_type": "stream",
     "text": [
      "0\n",
      "CPU times: user 8 µs, sys: 1 µs, total: 9 µs\n",
      "Wall time: 16.5 µs\n",
      "1\n",
      "CPU times: user 13 µs, sys: 0 ns, total: 13 µs\n",
      "Wall time: 22.4 µs\n",
      "2\n",
      "CPU times: user 10 µs, sys: 0 ns, total: 10 µs\n",
      "Wall time: 18.1 µs\n",
      "3\n",
      "CPU times: user 10 µs, sys: 0 ns, total: 10 µs\n",
      "Wall time: 17.2 µs\n",
      "4\n",
      "CPU times: user 10 µs, sys: 0 ns, total: 10 µs\n",
      "Wall time: 16.9 µs\n",
      "5\n",
      "CPU times: user 10 µs, sys: 0 ns, total: 10 µs\n",
      "Wall time: 18.6 µs\n",
      "6\n",
      "CPU times: user 10 µs, sys: 0 ns, total: 10 µs\n",
      "Wall time: 17.9 µs\n",
      "7\n",
      "CPU times: user 6 µs, sys: 0 ns, total: 6 µs\n",
      "Wall time: 10.5 µs\n",
      "8\n",
      "CPU times: user 10 µs, sys: 0 ns, total: 10 µs\n",
      "Wall time: 19.3 µs\n",
      "9\n",
      "CPU times: user 10 µs, sys: 0 ns, total: 10 µs\n",
      "Wall time: 17.9 µs\n",
      "CPU times: user 40.9 ms, sys: 154 µs, total: 41.1 ms\n",
      "Wall time: 10 s\n"
     ]
    }
   ],
   "source": [
    "%%time \n",
    "# This % will tell you how long it took to execute in this cell\n",
    "import time\n",
    "for i in range(10):\n",
    "    print(i)\n",
    "    %time # This % will tell you how long it took to execute in this line\n",
    "    time.sleep(1)"
   ]
  },
  {
   "cell_type": "code",
   "execution_count": 9,
   "id": "stuck-federation",
   "metadata": {},
   "outputs": [
    {
     "name": "stdout",
     "output_type": "stream",
     "text": [
      " "
     ]
    }
   ],
   "source": [
    "%prun # Works more specifically about run time"
   ]
  },
  {
   "cell_type": "markdown",
   "id": "hollywood-vertex",
   "metadata": {},
   "source": [
    "### Pandas library: It is like SQL API, it's very usual\n",
    "#### This cell below shows your usage memory (from the notebook)"
   ]
  },
  {
   "cell_type": "code",
   "execution_count": 7,
   "id": "tutorial-alexander",
   "metadata": {},
   "outputs": [
    {
     "name": "stdout",
     "output_type": "stream",
     "text": [
      "55.43359375\n"
     ]
    }
   ],
   "source": [
    "import resource\n",
    "mem = resource.getrusage(resource.RUSAGE_SELF).ru_maxrss / 1024.0\n",
    "print(mem)"
   ]
  },
  {
   "cell_type": "markdown",
   "id": "corporate-regard",
   "metadata": {},
   "source": [
    "#### About environment: "
   ]
  },
  {
   "cell_type": "code",
   "execution_count": 10,
   "id": "curious-pitch",
   "metadata": {},
   "outputs": [],
   "source": [
    "# !conda env list # Environments list"
   ]
  },
  {
   "cell_type": "code",
   "execution_count": 11,
   "id": "thousand-princess",
   "metadata": {},
   "outputs": [],
   "source": [
    "# !conda create -n teste1 python=3.9 #creating a new environment, its name is teste1"
   ]
  },
  {
   "cell_type": "code",
   "execution_count": 12,
   "id": "valued-blanket",
   "metadata": {},
   "outputs": [],
   "source": [
    "# !conda activate teste1 #changing my current env"
   ]
  },
  {
   "cell_type": "code",
   "execution_count": 13,
   "id": "given-patio",
   "metadata": {},
   "outputs": [],
   "source": [
    "# !conda deactivate #changing to pattern env"
   ]
  }
 ],
 "metadata": {
  "kernelspec": {
   "display_name": "Python 3",
   "language": "python",
   "name": "python3"
  },
  "language_info": {
   "codemirror_mode": {
    "name": "ipython",
    "version": 3
   },
   "file_extension": ".py",
   "mimetype": "text/x-python",
   "name": "python",
   "nbconvert_exporter": "python",
   "pygments_lexer": "ipython3",
   "version": "3.8.5"
  }
 },
 "nbformat": 4,
 "nbformat_minor": 5
}
