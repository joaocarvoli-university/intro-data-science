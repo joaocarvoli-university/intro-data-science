{
 "cells": [
  {
   "cell_type": "markdown",
   "id": "rotary-macro",
   "metadata": {},
   "source": [
    "# Introduction"
   ]
  },
  {
   "cell_type": "code",
   "execution_count": null,
   "id": "abandoned-subdivision",
   "metadata": {},
   "outputs": [],
   "source": [
    "print('Hello, world!')"
   ]
  },
  {
   "cell_type": "code",
   "execution_count": null,
   "id": "broad-relations",
   "metadata": {},
   "outputs": [],
   "source": [
    "%%time \n",
    "# This % will tell you how long it took to execute in this cell\n",
    "import time\n",
    "for i in range(10):\n",
    "    print(i)\n",
    "    %time # This % will tell you how long it took to execute in this line\n",
    "    time.sleep(1)"
   ]
  },
  {
   "cell_type": "code",
   "execution_count": null,
   "id": "stuck-federation",
   "metadata": {},
   "outputs": [],
   "source": [
    "%prun # Works more specifically about run time"
   ]
  },
  {
   "cell_type": "markdown",
   "id": "hollywood-vertex",
   "metadata": {},
   "source": [
    "### Pandas library: It is like SQL API, it's very usual\n",
    "#### This cell below shows your usage memory (from the notebook)"
   ]
  },
  {
   "cell_type": "code",
   "execution_count": null,
   "id": "tutorial-alexander",
   "metadata": {},
   "outputs": [],
   "source": [
    "import resource\n",
    "mem = resource.getrusage(resource.RUSAGE_SELF).ru_maxrss / 1024.0\n",
    "print(mem)"
   ]
  },
  {
   "cell_type": "markdown",
   "id": "corporate-regard",
   "metadata": {},
   "source": [
    "#### About environment: "
   ]
  },
  {
   "cell_type": "code",
   "execution_count": null,
   "id": "curious-pitch",
   "metadata": {},
   "outputs": [],
   "source": [
    "!conda env list # Environments list"
   ]
  },
  {
   "cell_type": "code",
   "execution_count": null,
   "id": "thousand-princess",
   "metadata": {},
   "outputs": [],
   "source": [
    "!conda create -n teste1 python=3.9 #creating a new environment, its name is teste1"
   ]
  },
  {
   "cell_type": "code",
   "execution_count": null,
   "id": "valued-blanket",
   "metadata": {},
   "outputs": [],
   "source": [
    "!conda activate teste1 #changing my current env"
   ]
  },
  {
   "cell_type": "code",
   "execution_count": null,
   "id": "given-patio",
   "metadata": {},
   "outputs": [],
   "source": [
    "!conda deactivate #changing to pattern env"
   ]
  },
  {
   "cell_type": "code",
   "execution_count": null,
   "id": "prerequisite-syndrome",
   "metadata": {},
   "outputs": [],
   "source": []
  }
 ],
 "metadata": {
  "kernelspec": {
   "display_name": "Python 3",
   "language": "python",
   "name": "python3"
  },
  "language_info": {
   "codemirror_mode": {
    "name": "ipython",
    "version": 3
   },
   "file_extension": ".py",
   "mimetype": "text/x-python",
   "name": "python",
   "nbconvert_exporter": "python",
   "pygments_lexer": "ipython3",
   "version": "3.8.5"
  }
 },
 "nbformat": 4,
 "nbformat_minor": 5
}
