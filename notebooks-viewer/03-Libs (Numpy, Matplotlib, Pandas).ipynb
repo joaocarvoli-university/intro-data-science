{
 "cells": [
  {
   "cell_type": "markdown",
   "id": "express-priority",
   "metadata": {},
   "source": [
    "### 1. Numpy: "
   ]
  },
  {
   "cell_type": "code",
   "execution_count": 1,
   "id": "preliminary-costa",
   "metadata": {},
   "outputs": [],
   "source": [
    "import numpy as np\n",
    "# We use numpy because it is faster than the python lists"
   ]
  },
  {
   "cell_type": "code",
   "execution_count": 9,
   "id": "domestic-penny",
   "metadata": {},
   "outputs": [
    {
     "name": "stdout",
     "output_type": "stream",
     "text": [
      "Normal list: [1, 2, 3], type: <class 'list'>\n",
      "Numpy list: [1 2 3], type: <class 'numpy.ndarray'>\n"
     ]
    }
   ],
   "source": [
    "list1 = [1,2,3]\n",
    "array1 = np.array(list1)\n",
    "\n",
    "print(f'Normal list: {list1}, type: {type(list1)}')\n",
    "print(f'Numpy list: {array1}, type: {type(array1)}')"
   ]
  },
  {
   "cell_type": "code",
   "execution_count": 10,
   "id": "expected-junior",
   "metadata": {},
   "outputs": [
    {
     "name": "stdout",
     "output_type": "stream",
     "text": [
      "[[1, 2, 3], [4, 5, 6]]\n",
      "[[1 2 3]\n",
      " [4 5 6]]\n",
      "Just first line: [1 2 3] \n",
      "and\n",
      "media of matrix 3.5\n"
     ]
    }
   ],
   "source": [
    "list2 = [[1,2,3],[4,5,6]]\n",
    "print(list2)\n",
    "array2 = np.array(list2)\n",
    "print(array2)\n",
    "print(f'Just first line: {array2[0]} \\nand\\nmedia of matrix {np.average(array2)}')"
   ]
  },
  {
   "cell_type": "markdown",
   "id": "effective-theology",
   "metadata": {},
   "source": [
    "#### Operating arrays - 2D:"
   ]
  },
  {
   "cell_type": "code",
   "execution_count": 11,
   "id": "arranged-milton",
   "metadata": {},
   "outputs": [
    {
     "data": {
      "text/plain": [
       "array([[2, 4, 6],\n",
       "       [5, 7, 9]])"
      ]
     },
     "execution_count": 11,
     "metadata": {},
     "output_type": "execute_result"
    }
   ],
   "source": [
    "array1 + array2"
   ]
  },
  {
   "cell_type": "code",
   "execution_count": 12,
   "id": "southwest-grove",
   "metadata": {},
   "outputs": [
    {
     "data": {
      "text/plain": [
       "array([[ 1,  4,  9],\n",
       "       [ 4, 10, 18]])"
      ]
     },
     "execution_count": 12,
     "metadata": {},
     "output_type": "execute_result"
    }
   ],
   "source": [
    "array1 * array2"
   ]
  },
  {
   "cell_type": "code",
   "execution_count": 18,
   "id": "floppy-dressing",
   "metadata": {},
   "outputs": [
    {
     "name": "stdout",
     "output_type": "stream",
     "text": [
      "Before transpose version:\n",
      " [[1 2 3]\n",
      " [4 5 6]]\n",
      "After transpose version:\n",
      " [[1 4]\n",
      " [2 5]\n",
      " [3 6]]\n"
     ]
    }
   ],
   "source": [
    "print(f'Before transpose version:\\n {array2}')\n",
    "print(f'After transpose version:\\n {np.transpose(array2)}')"
   ]
  },
  {
   "cell_type": "markdown",
   "id": "scenic-reservation",
   "metadata": {},
   "source": [
    "#### Initializing 2D arrays"
   ]
  },
  {
   "cell_type": "code",
   "execution_count": 28,
   "id": "early-lender",
   "metadata": {},
   "outputs": [
    {
     "name": "stdout",
     "output_type": "stream",
     "text": [
      "[[0. 0. 0. 0. 0.]\n",
      " [0. 0. 0. 0. 0.]\n",
      " [0. 0. 0. 0. 0.]] \n",
      "General matrix <class 'numpy.ndarray'> \n",
      "and each element: <class 'numpy.float64'>\n"
     ]
    }
   ],
   "source": [
    "# Initializing with zeros\n",
    "a = np.zeros((3,5)) # (line,column)\n",
    "print(a,'\\nGeneral matrix',type(a),'\\nand each element:',type(a[0,0]))"
   ]
  },
  {
   "cell_type": "code",
   "execution_count": 29,
   "id": "seasonal-dictionary",
   "metadata": {},
   "outputs": [
    {
     "data": {
      "text/plain": [
       "array([[4.66076515e-310, 0.00000000e+000, 0.00000000e+000,\n",
       "        0.00000000e+000],\n",
       "       [0.00000000e+000, 0.00000000e+000, 0.00000000e+000,\n",
       "        0.00000000e+000],\n",
       "       [0.00000000e+000, 0.00000000e+000, 0.00000000e+000,\n",
       "        0.00000000e+000]])"
      ]
     },
     "execution_count": 29,
     "metadata": {},
     "output_type": "execute_result"
    }
   ],
   "source": [
    "# Initializing empty array\n",
    "np.empty([3,4])"
   ]
  },
  {
   "cell_type": "markdown",
   "id": "posted-printing",
   "metadata": {},
   "source": [
    "#### Slicing forms:"
   ]
  },
  {
   "cell_type": "code",
   "execution_count": 30,
   "id": "decimal-camcorder",
   "metadata": {},
   "outputs": [
    {
     "name": "stdout",
     "output_type": "stream",
     "text": [
      "[[1 2 3]\n",
      " [4 5 6]\n",
      " [7 8 9]]\n"
     ]
    }
   ],
   "source": [
    "b = np.array([[1,2,3],[4,5,6],[7,8,9]])\n",
    "print(b)"
   ]
  },
  {
   "cell_type": "code",
   "execution_count": 37,
   "id": "blind-graph",
   "metadata": {},
   "outputs": [
    {
     "name": "stdout",
     "output_type": "stream",
     "text": [
      "[1 4 7]\n",
      "[2 5 8]\n"
     ]
    }
   ],
   "source": [
    "print(b[:, 0]) #Just first column\n",
    "print(b[:,1]) # Just second column"
   ]
  },
  {
   "cell_type": "code",
   "execution_count": 40,
   "id": "identified-departure",
   "metadata": {},
   "outputs": [
    {
     "data": {
      "text/plain": [
       "array([[1, 2],\n",
       "       [4, 5],\n",
       "       [7, 8]])"
      ]
     },
     "execution_count": 40,
     "metadata": {},
     "output_type": "execute_result"
    }
   ],
   "source": [
    "b[:,0:2] # two columns"
   ]
  },
  {
   "cell_type": "code",
   "execution_count": 47,
   "id": "removed-tunnel",
   "metadata": {},
   "outputs": [
    {
     "data": {
      "text/plain": [
       "array([1, 3, 5])"
      ]
     },
     "execution_count": 47,
     "metadata": {},
     "output_type": "execute_result"
    }
   ],
   "source": [
    "c = np.array([0,1,2,3,4,5,6,7,8,9,10,11,12,13])\n",
    "# [start:stop:step]\n",
    "c[1:7:2]"
   ]
  },
  {
   "cell_type": "markdown",
   "id": "environmental-initial",
   "metadata": {},
   "source": [
    "#### Save and read files:"
   ]
  },
  {
   "cell_type": "code",
   "execution_count": 48,
   "id": "injured-stopping",
   "metadata": {},
   "outputs": [
    {
     "name": "stdout",
     "output_type": "stream",
     "text": [
      "[ 0  1  2  3  4  5  6  7  8  9 10 11 12 13]\n"
     ]
    }
   ],
   "source": [
    "np.save('/tmp/c.npy', c)\n",
    "del(c)\n",
    "c = np.load('/tmp/c.npy')\n",
    "print(c)"
   ]
  },
  {
   "cell_type": "markdown",
   "id": "beginning-seattle",
   "metadata": {},
   "source": [
    "#### obs: study about memory mapping"
   ]
  },
  {
   "cell_type": "markdown",
   "id": "characteristic-firmware",
   "metadata": {},
   "source": [
    "### 2. Pandas:"
   ]
  },
  {
   "cell_type": "code",
   "execution_count": null,
   "id": "varied-circus",
   "metadata": {},
   "outputs": [],
   "source": []
  }
 ],
 "metadata": {
  "kernelspec": {
   "display_name": "Python 3",
   "language": "python",
   "name": "python3"
  },
  "language_info": {
   "codemirror_mode": {
    "name": "ipython",
    "version": 3
   },
   "file_extension": ".py",
   "mimetype": "text/x-python",
   "name": "python",
   "nbconvert_exporter": "python",
   "pygments_lexer": "ipython3",
   "version": "3.8.5"
  }
 },
 "nbformat": 4,
 "nbformat_minor": 5
}
