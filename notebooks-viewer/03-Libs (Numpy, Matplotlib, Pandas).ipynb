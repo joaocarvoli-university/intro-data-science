{
 "cells": [
  {
   "cell_type": "markdown",
   "id": "express-priority",
   "metadata": {},
   "source": [
    "### 1. Numpy: "
   ]
  },
  {
   "cell_type": "code",
   "execution_count": 1,
   "id": "preliminary-costa",
   "metadata": {},
   "outputs": [],
   "source": [
    "import numpy as np\n",
    "# We use numpy because it is faster than the python lists"
   ]
  },
  {
   "cell_type": "code",
   "execution_count": 2,
   "id": "domestic-penny",
   "metadata": {},
   "outputs": [
    {
     "name": "stdout",
     "output_type": "stream",
     "text": [
      "Normal list: [1, 2, 3], type: <class 'list'>\n",
      "Numpy list: [1 2 3], type: <class 'numpy.ndarray'>\n"
     ]
    }
   ],
   "source": [
    "list1 = [1,2,3]\n",
    "array1 = np.array(list1)\n",
    "\n",
    "print(f'Normal list: {list1}, type: {type(list1)}')\n",
    "print(f'Numpy list: {array1}, type: {type(array1)}')"
   ]
  },
  {
   "cell_type": "code",
   "execution_count": 3,
   "id": "expected-junior",
   "metadata": {},
   "outputs": [
    {
     "name": "stdout",
     "output_type": "stream",
     "text": [
      "[[1, 2, 3], [4, 5, 6]]\n",
      "[[1 2 3]\n",
      " [4 5 6]]\n",
      "Just first line: [1 2 3] \n",
      "and\n",
      "media of matrix 3.5\n"
     ]
    }
   ],
   "source": [
    "list2 = [[1,2,3],[4,5,6]]\n",
    "print(list2)\n",
    "array2 = np.array(list2)\n",
    "print(array2)\n",
    "print(f'Just first line: {array2[0]} \\nand\\nmedia of matrix {np.average(array2)}')"
   ]
  },
  {
   "cell_type": "markdown",
   "id": "effective-theology",
   "metadata": {},
   "source": [
    "#### Operating arrays - 2D:"
   ]
  },
  {
   "cell_type": "code",
   "execution_count": 4,
   "id": "arranged-milton",
   "metadata": {},
   "outputs": [
    {
     "data": {
      "text/plain": [
       "array([[2, 4, 6],\n",
       "       [5, 7, 9]])"
      ]
     },
     "execution_count": 4,
     "metadata": {},
     "output_type": "execute_result"
    }
   ],
   "source": [
    "array1 + array2"
   ]
  },
  {
   "cell_type": "code",
   "execution_count": 5,
   "id": "southwest-grove",
   "metadata": {},
   "outputs": [
    {
     "data": {
      "text/plain": [
       "array([[ 1,  4,  9],\n",
       "       [ 4, 10, 18]])"
      ]
     },
     "execution_count": 5,
     "metadata": {},
     "output_type": "execute_result"
    }
   ],
   "source": [
    "array1 * array2"
   ]
  },
  {
   "cell_type": "code",
   "execution_count": 6,
   "id": "floppy-dressing",
   "metadata": {},
   "outputs": [
    {
     "name": "stdout",
     "output_type": "stream",
     "text": [
      "Before transpose version:\n",
      " [[1 2 3]\n",
      " [4 5 6]]\n",
      "After transpose version:\n",
      " [[1 4]\n",
      " [2 5]\n",
      " [3 6]]\n"
     ]
    }
   ],
   "source": [
    "print(f'Before transpose version:\\n {array2}')\n",
    "print(f'After transpose version:\\n {np.transpose(array2)}')"
   ]
  },
  {
   "cell_type": "markdown",
   "id": "scenic-reservation",
   "metadata": {},
   "source": [
    "#### Initializing 2D arrays"
   ]
  },
  {
   "cell_type": "code",
   "execution_count": 7,
   "id": "early-lender",
   "metadata": {},
   "outputs": [
    {
     "name": "stdout",
     "output_type": "stream",
     "text": [
      "[[0. 0. 0. 0. 0.]\n",
      " [0. 0. 0. 0. 0.]\n",
      " [0. 0. 0. 0. 0.]] \n",
      "General matrix <class 'numpy.ndarray'> \n",
      "and each element: <class 'numpy.float64'>\n"
     ]
    }
   ],
   "source": [
    "# Initializing with zeros\n",
    "a = np.zeros((3,5)) # (line,column)\n",
    "print(a,'\\nGeneral matrix',type(a),'\\nand each element:',type(a[0,0]))"
   ]
  },
  {
   "cell_type": "code",
   "execution_count": 8,
   "id": "seasonal-dictionary",
   "metadata": {},
   "outputs": [
    {
     "data": {
      "text/plain": [
       "array([[4.64598143e-310, 0.00000000e+000, 0.00000000e+000,\n",
       "        0.00000000e+000],\n",
       "       [0.00000000e+000, 0.00000000e+000, 0.00000000e+000,\n",
       "        0.00000000e+000],\n",
       "       [0.00000000e+000, 0.00000000e+000, 0.00000000e+000,\n",
       "        0.00000000e+000]])"
      ]
     },
     "execution_count": 8,
     "metadata": {},
     "output_type": "execute_result"
    }
   ],
   "source": [
    "# Initializing empty array\n",
    "np.empty([3,4])"
   ]
  },
  {
   "cell_type": "markdown",
   "id": "posted-printing",
   "metadata": {},
   "source": [
    "#### Slicing forms:"
   ]
  },
  {
   "cell_type": "code",
   "execution_count": 9,
   "id": "decimal-camcorder",
   "metadata": {},
   "outputs": [
    {
     "name": "stdout",
     "output_type": "stream",
     "text": [
      "[[1 2 3]\n",
      " [4 5 6]\n",
      " [7 8 9]]\n"
     ]
    }
   ],
   "source": [
    "b = np.array([[1,2,3],[4,5,6],[7,8,9]])\n",
    "print(b)"
   ]
  },
  {
   "cell_type": "code",
   "execution_count": 10,
   "id": "blind-graph",
   "metadata": {},
   "outputs": [
    {
     "name": "stdout",
     "output_type": "stream",
     "text": [
      "[1 4 7]\n",
      "[2 5 8]\n"
     ]
    }
   ],
   "source": [
    "print(b[:, 0]) #Just first column\n",
    "print(b[:,1]) # Just second column"
   ]
  },
  {
   "cell_type": "code",
   "execution_count": 11,
   "id": "identified-departure",
   "metadata": {},
   "outputs": [
    {
     "data": {
      "text/plain": [
       "array([[1, 2],\n",
       "       [4, 5],\n",
       "       [7, 8]])"
      ]
     },
     "execution_count": 11,
     "metadata": {},
     "output_type": "execute_result"
    }
   ],
   "source": [
    "b[:,0:2] # two columns"
   ]
  },
  {
   "cell_type": "code",
   "execution_count": 12,
   "id": "removed-tunnel",
   "metadata": {},
   "outputs": [
    {
     "data": {
      "text/plain": [
       "array([1, 3, 5])"
      ]
     },
     "execution_count": 12,
     "metadata": {},
     "output_type": "execute_result"
    }
   ],
   "source": [
    "c = np.array([0,1,2,3,4,5,6,7,8,9,10,11,12,13])\n",
    "# [start:stop:step]\n",
    "c[1:7:2]"
   ]
  },
  {
   "cell_type": "markdown",
   "id": "environmental-initial",
   "metadata": {},
   "source": [
    "#### Save and read files:"
   ]
  },
  {
   "cell_type": "code",
   "execution_count": 13,
   "id": "injured-stopping",
   "metadata": {},
   "outputs": [
    {
     "name": "stdout",
     "output_type": "stream",
     "text": [
      "[ 0  1  2  3  4  5  6  7  8  9 10 11 12 13]\n"
     ]
    }
   ],
   "source": [
    "np.save('/tmp/c.npy', c)\n",
    "del(c)\n",
    "c = np.load('/tmp/c.npy')\n",
    "print(c)"
   ]
  },
  {
   "cell_type": "markdown",
   "id": "beginning-seattle",
   "metadata": {},
   "source": [
    "#### obs: study about memory mapping"
   ]
  },
  {
   "cell_type": "markdown",
   "id": "characteristic-firmware",
   "metadata": {},
   "source": [
    "### 2. Matplotlib:"
   ]
  },
  {
   "cell_type": "code",
   "execution_count": 14,
   "id": "varied-circus",
   "metadata": {},
   "outputs": [],
   "source": [
    "%matplotlib inline \n",
    "# Always You need put this line above because wihtout it the graphs aren't show\n",
    "import matplotlib.pyplot as plt\n",
    "import numpy as np"
   ]
  },
  {
   "cell_type": "code",
   "execution_count": 15,
   "id": "naughty-fields",
   "metadata": {},
   "outputs": [
    {
     "data": {
      "text/plain": [
       "[<matplotlib.lines.Line2D at 0x7f70b41182e0>]"
      ]
     },
     "execution_count": 15,
     "metadata": {},
     "output_type": "execute_result"
    },
    {
     "data": {
      "image/png": "[encoded data removed]",
      "text/plain": [
       "<Figure size 432x288 with 1 Axes>"
      ]
     },
     "metadata": {
      "needs_background": "light"
     },
     "output_type": "display_data"
    }
   ],
   "source": [
    "y = [1,7,3,5,12]\n",
    "x = [1,2,3,4,5]\n",
    "plt.plot(x, y,marker='o') "
   ]
  },
  {
   "cell_type": "code",
   "execution_count": 16,
   "id": "buried-survey",
   "metadata": {},
   "outputs": [
    {
     "data": {
      "image/png": "[encoded data removed]",
      "text/plain": [
       "<Figure size 432x288 with 1 Axes>"
      ]
     },
     "metadata": {
      "needs_background": "light"
     },
     "output_type": "display_data"
    }
   ],
   "source": [
    "plt.plot(x, y, marker='o')\n",
    "plt.grid()"
   ]
  },
  {
   "cell_type": "code",
   "execution_count": 17,
   "id": "asian-armenia",
   "metadata": {},
   "outputs": [
    {
     "data": {
      "text/plain": [
       "<matplotlib.collections.PathCollection at 0x7f70b38932e0>"
      ]
     },
     "execution_count": 17,
     "metadata": {},
     "output_type": "execute_result"
    },
    {
     "data": {
      "image/png": "[encoded data removed]",
      "text/plain": [
       "<Figure size 432x288 with 1 Axes>"
      ]
     },
     "metadata": {
      "needs_background": "light"
     },
     "output_type": "display_data"
    }
   ],
   "source": [
    "plt.scatter(x, y, marker='x')"
   ]
  },
  {
   "cell_type": "code",
   "execution_count": 18,
   "id": "metallic-circumstances",
   "metadata": {},
   "outputs": [
    {
     "data": {
      "text/plain": [
       "<BarContainer object of 5 artists>"
      ]
     },
     "execution_count": 18,
     "metadata": {},
     "output_type": "execute_result"
    },
    {
     "data": {
      "image/png": "[encoded data removed]",
      "text/plain": [
       "<Figure size 432x288 with 1 Axes>"
      ]
     },
     "metadata": {
      "needs_background": "light"
     },
     "output_type": "display_data"
    }
   ],
   "source": [
    "plt.bar(x, y)"
   ]
  },
  {
   "cell_type": "markdown",
   "id": "impressive-nicholas",
   "metadata": {},
   "source": [
    "#### How to generates a pdf or png image of a graph?"
   ]
  },
  {
   "cell_type": "code",
   "execution_count": 19,
   "id": "toxic-feelings",
   "metadata": {},
   "outputs": [
    {
     "data": {
      "application/pdf": "[encoded data removed]",
      "text/plain": [
       "<Figure size 432x288 with 1 Axes>"
      ]
     },
     "metadata": {
      "needs_background": "light"
     },
     "output_type": "display_data"
    }
   ],
   "source": [
    "%config InlineBackend.figure_format = 'pdf'\n",
    "plt.plot(x, y, marker='o')\n",
    "plt.grid()"
   ]
  },
  {
   "cell_type": "code",
   "execution_count": 20,
   "id": "unavailable-burner",
   "metadata": {},
   "outputs": [
    {
     "data": {
      "image/png": "[encoded data removed]",
      "text/plain": [
       "<Figure size 432x288 with 1 Axes>"
      ]
     },
     "metadata": {
      "needs_background": "light"
     },
     "output_type": "display_data"
    }
   ],
   "source": [
    "%config InlineBackend.figure_format = 'png'\n",
    "plt.plot(x, y, marker='o')\n",
    "plt.grid()"
   ]
  },
  {
   "cell_type": "markdown",
   "id": "passive-albania",
   "metadata": {},
   "source": [
    "#### Data from PIB"
   ]
  },
  {
   "cell_type": "code",
   "execution_count": 21,
   "id": "appointed-incident",
   "metadata": {},
   "outputs": [
    {
     "data": {
      "image/png": "[encoded data removed]",
      "text/plain": [
       "<Figure size 432x288 with 1 Axes>"
      ]
     },
     "metadata": {
      "needs_background": "light"
     },
     "output_type": "display_data"
    }
   ],
   "source": [
    "years = [1950, 1960, 1970, 1980, 1990, 2000, 2010]\n",
    "pib = [300.2, 543.3, 1075.9, 2862.5, 5979.6, 10289.7, 14958.3]\n",
    "plt.plot(years, pib, marker='o')\n",
    "plt.title('PIB') # Title of graph\n",
    "plt.xlabel('Year') # Label of x axes\n",
    "plt.ylabel(u'Bilions of R$') # Label of y axes\n",
    "plt.grid()"
   ]
  },
  {
   "cell_type": "markdown",
   "id": "surrounded-czech",
   "metadata": {},
   "source": [
    "#### What matplotllib version I've used?"
   ]
  },
  {
   "cell_type": "code",
   "execution_count": 22,
   "id": "adjusted-glory",
   "metadata": {},
   "outputs": [
    {
     "data": {
      "text/plain": [
       "'3.3.4'"
      ]
     },
     "execution_count": 22,
     "metadata": {},
     "output_type": "execute_result"
    }
   ],
   "source": [
    "import matplotlib\n",
    "matplotlib.__version__"
   ]
  },
  {
   "cell_type": "markdown",
   "id": "plain-perspective",
   "metadata": {},
   "source": [
    "#### What styles We can use?"
   ]
  },
  {
   "cell_type": "code",
   "execution_count": 23,
   "id": "breeding-freight",
   "metadata": {},
   "outputs": [
    {
     "name": "stdout",
     "output_type": "stream",
     "text": [
      "['Solarize_Light2', '_classic_test_patch', 'bmh', 'classic', 'dark_background', 'fast', 'fivethirtyeight', 'ggplot', 'grayscale', 'seaborn', 'seaborn-bright', 'seaborn-colorblind', 'seaborn-dark', 'seaborn-dark-palette', 'seaborn-darkgrid', 'seaborn-deep', 'seaborn-muted', 'seaborn-notebook', 'seaborn-paper', 'seaborn-pastel', 'seaborn-poster', 'seaborn-talk', 'seaborn-ticks', 'seaborn-white', 'seaborn-whitegrid', 'tableau-colorblind10']\n"
     ]
    }
   ],
   "source": [
    "print(plt.style.available)"
   ]
  },
  {
   "cell_type": "markdown",
   "id": "another-adventure",
   "metadata": {},
   "source": [
    "#### How to reset to pattern style and use another styles?"
   ]
  },
  {
   "cell_type": "code",
   "execution_count": 24,
   "id": "dirty-disclosure",
   "metadata": {},
   "outputs": [],
   "source": [
    "plt.style.use('classic')"
   ]
  },
  {
   "cell_type": "code",
   "execution_count": 25,
   "id": "lonely-latest",
   "metadata": {},
   "outputs": [
    {
     "data": {
      "image/png": "[encoded data removed]",
      "text/plain": [
       "<Figure size 640x480 with 1 Axes>"
      ]
     },
     "metadata": {},
     "output_type": "display_data"
    }
   ],
   "source": [
    "plt.plot(x, y, marker='o')\n",
    "plt.grid()"
   ]
  },
  {
   "cell_type": "code",
   "execution_count": 26,
   "id": "documentary-estimate",
   "metadata": {},
   "outputs": [],
   "source": [
    "plt.style.use('seaborn-white')"
   ]
  },
  {
   "cell_type": "code",
   "execution_count": 27,
   "id": "finished-final",
   "metadata": {},
   "outputs": [
    {
     "data": {
      "image/png": "[encoded data removed]",
      "text/plain": [
       "<Figure size 640x480 with 1 Axes>"
      ]
     },
     "metadata": {},
     "output_type": "display_data"
    }
   ],
   "source": [
    "plt.plot(x, y, marker='o')\n",
    "plt.grid()"
   ]
  },
  {
   "cell_type": "code",
   "execution_count": 28,
   "id": "given-worcester",
   "metadata": {},
   "outputs": [],
   "source": [
    "plt.rcdefaults() # Backing to the pattern"
   ]
  },
  {
   "cell_type": "code",
   "execution_count": 29,
   "id": "lesser-translator",
   "metadata": {},
   "outputs": [
    {
     "data": {
      "image/png": "[encoded data removed]",
      "text/plain": [
       "<Figure size 640x480 with 1 Axes>"
      ]
     },
     "metadata": {},
     "output_type": "display_data"
    }
   ],
   "source": [
    "plt.plot(x, y, marker='o')\n",
    "plt.grid()"
   ]
  },
  {
   "cell_type": "markdown",
   "id": "fancy-pakistan",
   "metadata": {},
   "source": [
    "### 3. Pandas:"
   ]
  },
  {
   "cell_type": "code",
   "execution_count": 30,
   "id": "creative-corps",
   "metadata": {},
   "outputs": [],
   "source": [
    "import pandas as pd"
   ]
  },
  {
   "cell_type": "code",
   "execution_count": 54,
   "id": "rental-practice",
   "metadata": {},
   "outputs": [
    {
     "name": "stdout",
     "output_type": "stream",
     "text": [
      "0    2\n",
      "1    7\n",
      "2    5\n",
      "3    1\n",
      "4    4\n",
      "dtype: int64\n"
     ]
    }
   ],
   "source": [
    "serie1 = pd.Series([2,7,5,1,4]) # Series are a type of array one-dimensional\n",
    "print(serie1);\n",
    "# The fisrt column are the index of this array"
   ]
  },
  {
   "cell_type": "code",
   "execution_count": 55,
   "id": "israeli-format",
   "metadata": {},
   "outputs": [
    {
     "name": "stdout",
     "output_type": "stream",
     "text": [
      "a    2\n",
      "b    7\n",
      "c    5\n",
      "d    1\n",
      "e    4\n",
      "dtype: int64\n"
     ]
    }
   ],
   "source": [
    "lista = [2,7,5,1,4]\n",
    "rotulos = ['a','b','c','d','e'] # Changing indexes\n",
    "serie2 = pd.Series(lista, index=rotulos)\n",
    "print(serie2);"
   ]
  },
  {
   "cell_type": "code",
   "execution_count": 53,
   "id": "mighty-cricket",
   "metadata": {},
   "outputs": [
    {
     "data": {
      "image/png": "[encoded data removed]",
      "text/plain": [
       "<Figure size 640x480 with 1 Axes>"
      ]
     },
     "metadata": {},
     "output_type": "display_data"
    }
   ],
   "source": [
    "serie1.plot(marker='o',grid=True);"
   ]
  },
  {
   "cell_type": "markdown",
   "id": "grand-karen",
   "metadata": {},
   "source": [
    "#### Data frame:"
   ]
  },
  {
   "cell_type": "code",
   "execution_count": 59,
   "id": "gorgeous-survivor",
   "metadata": {},
   "outputs": [
    {
     "data": {
      "text/html": [
       "<div>\n",
       "<style scoped>\n",
       "    .dataframe tbody tr th:only-of-type {\n",
       "        vertical-align: middle;\n",
       "    }\n",
       "\n",
       "    .dataframe tbody tr th {\n",
       "        vertical-align: top;\n",
       "    }\n",
       "\n",
       "    .dataframe thead th {\n",
       "        text-align: right;\n",
       "    }\n",
       "</style>\n",
       "<table border=\"1\" class=\"dataframe\">\n",
       "  <thead>\n",
       "    <tr style=\"text-align: right;\">\n",
       "      <th></th>\n",
       "      <th>C1</th>\n",
       "      <th>C2</th>\n",
       "      <th>C3</th>\n",
       "    </tr>\n",
       "  </thead>\n",
       "  <tbody>\n",
       "    <tr>\n",
       "      <th>L1</th>\n",
       "      <td>1</td>\n",
       "      <td>2</td>\n",
       "      <td>3</td>\n",
       "    </tr>\n",
       "    <tr>\n",
       "      <th>L2</th>\n",
       "      <td>4</td>\n",
       "      <td>5</td>\n",
       "      <td>6</td>\n",
       "    </tr>\n",
       "  </tbody>\n",
       "</table>\n",
       "</div>"
      ],
      "text/plain": [
       "    C1  C2  C3\n",
       "L1   1   2   3\n",
       "L2   4   5   6"
      ]
     },
     "execution_count": 59,
     "metadata": {},
     "output_type": "execute_result"
    }
   ],
   "source": [
    "matrix = np.array([[1, 2, 3], [4, 5, 6]])\n",
    "lines = ['L1', 'L2']\n",
    "colmuns = ['C1', 'C2', 'C3']\n",
    "\n",
    "df = pd.DataFrame(matrix, index=lines, columns=colmuns)\n",
    "df"
   ]
  },
  {
   "cell_type": "code",
   "execution_count": 60,
   "id": "fiscal-standing",
   "metadata": {},
   "outputs": [
    {
     "name": "stdout",
     "output_type": "stream",
     "text": [
      "    C1  C2  C3\n",
      "L1   1   2   3\n",
      "L2   4   5   6\n"
     ]
    }
   ],
   "source": [
    "print(df)"
   ]
  },
  {
   "cell_type": "code",
   "execution_count": 61,
   "id": "passing-horror",
   "metadata": {},
   "outputs": [
    {
     "name": "stdout",
     "output_type": "stream",
     "text": [
      "\\begin{tabular}{lrrr}\n",
      "\\toprule\n",
      "{} &  C1 &  C2 &  C3 \\\\\n",
      "\\midrule\n",
      "L1 &   1 &   2 &   3 \\\\\n",
      "L2 &   4 &   5 &   6 \\\\\n",
      "\\bottomrule\n",
      "\\end{tabular}\n",
      "\n"
     ]
    }
   ],
   "source": [
    "print(df.to_latex()) # this print convert that table to latex version"
   ]
  },
  {
   "cell_type": "code",
   "execution_count": 62,
   "id": "starting-tyler",
   "metadata": {},
   "outputs": [],
   "source": [
    "df = pd.read_csv('/home/joaocarvoli/Downloads/test-to-course.csv') # \"to call\" a file from your pc to jupyter"
   ]
  },
  {
   "cell_type": "code",
   "execution_count": 50,
   "id": "split-platinum",
   "metadata": {},
   "outputs": [
    {
     "data": {
      "text/html": [
       "<div>\n",
       "<style scoped>\n",
       "    .dataframe tbody tr th:only-of-type {\n",
       "        vertical-align: middle;\n",
       "    }\n",
       "\n",
       "    .dataframe tbody tr th {\n",
       "        vertical-align: top;\n",
       "    }\n",
       "\n",
       "    .dataframe thead th {\n",
       "        text-align: right;\n",
       "    }\n",
       "</style>\n",
       "<table border=\"1\" class=\"dataframe\">\n",
       "  <thead>\n",
       "    <tr style=\"text-align: right;\">\n",
       "      <th></th>\n",
       "      <th>Col 1</th>\n",
       "      <th>Col2</th>\n",
       "      <th>Col3</th>\n",
       "    </tr>\n",
       "  </thead>\n",
       "  <tbody>\n",
       "    <tr>\n",
       "      <th>0</th>\n",
       "      <td>1</td>\n",
       "      <td>2</td>\n",
       "      <td>3</td>\n",
       "    </tr>\n",
       "    <tr>\n",
       "      <th>1</th>\n",
       "      <td>4</td>\n",
       "      <td>5</td>\n",
       "      <td>6</td>\n",
       "    </tr>\n",
       "    <tr>\n",
       "      <th>2</th>\n",
       "      <td>7</td>\n",
       "      <td>8</td>\n",
       "      <td>9</td>\n",
       "    </tr>\n",
       "  </tbody>\n",
       "</table>\n",
       "</div>"
      ],
      "text/plain": [
       "   Col 1  Col2  Col3\n",
       "0      1     2     3\n",
       "1      4     5     6\n",
       "2      7     8     9"
      ]
     },
     "execution_count": 50,
     "metadata": {},
     "output_type": "execute_result"
    }
   ],
   "source": [
    "df"
   ]
  },
  {
   "cell_type": "code",
   "execution_count": 67,
   "id": "unexpected-nature",
   "metadata": {},
   "outputs": [
    {
     "data": {
      "image/png": "[encoded data removed]",
      "text/plain": [
       "<Figure size 640x480 with 1 Axes>"
      ]
     },
     "metadata": {},
     "output_type": "display_data"
    }
   ],
   "source": [
    "df.plot(kind='bar');"
   ]
  },
  {
   "cell_type": "code",
   "execution_count": 65,
   "id": "horizontal-notion",
   "metadata": {},
   "outputs": [
    {
     "data": {
      "image/png": "[encoded data removed]",
      "text/plain": [
       "<Figure size 640x480 with 1 Axes>"
      ]
     },
     "metadata": {},
     "output_type": "display_data"
    }
   ],
   "source": [
    "df.plot(kind='bar', grid=True, title='Title');"
   ]
  },
  {
   "cell_type": "code",
   "execution_count": 70,
   "id": "meaning-replacement",
   "metadata": {},
   "outputs": [
    {
     "data": {
      "text/html": [
       "<div>\n",
       "<style scoped>\n",
       "    .dataframe tbody tr th:only-of-type {\n",
       "        vertical-align: middle;\n",
       "    }\n",
       "\n",
       "    .dataframe tbody tr th {\n",
       "        vertical-align: top;\n",
       "    }\n",
       "\n",
       "    .dataframe thead th {\n",
       "        text-align: right;\n",
       "    }\n",
       "</style>\n",
       "<table border=\"1\" class=\"dataframe\">\n",
       "  <thead>\n",
       "    <tr style=\"text-align: right;\">\n",
       "      <th></th>\n",
       "      <th>0</th>\n",
       "      <th>1</th>\n",
       "      <th>2</th>\n",
       "    </tr>\n",
       "  </thead>\n",
       "  <tbody>\n",
       "    <tr>\n",
       "      <th>Col 1</th>\n",
       "      <td>1</td>\n",
       "      <td>4</td>\n",
       "      <td>7</td>\n",
       "    </tr>\n",
       "    <tr>\n",
       "      <th>Col2</th>\n",
       "      <td>2</td>\n",
       "      <td>5</td>\n",
       "      <td>8</td>\n",
       "    </tr>\n",
       "    <tr>\n",
       "      <th>Col3</th>\n",
       "      <td>3</td>\n",
       "      <td>6</td>\n",
       "      <td>9</td>\n",
       "    </tr>\n",
       "  </tbody>\n",
       "</table>\n",
       "</div>"
      ],
      "text/plain": [
       "       0  1  2\n",
       "Col 1  1  4  7\n",
       "Col2   2  5  8\n",
       "Col3   3  6  9"
      ]
     },
     "execution_count": 70,
     "metadata": {},
     "output_type": "execute_result"
    }
   ],
   "source": [
    "df.transpose() # to make a transpose"
   ]
  },
  {
   "cell_type": "code",
   "execution_count": 71,
   "id": "regulated-lying",
   "metadata": {},
   "outputs": [
    {
     "data": {
      "image/png": "[encoded data removed]",
      "text/plain": [
       "<Figure size 640x480 with 1 Axes>"
      ]
     },
     "metadata": {},
     "output_type": "display_data"
    }
   ],
   "source": [
    "df.plot(kind='bar');"
   ]
  },
  {
   "cell_type": "markdown",
   "id": "republican-network",
   "metadata": {},
   "source": [
    "## finishing the use of these libs, for the time being"
   ]
  }
 ],
 "metadata": {
  "kernelspec": {
   "display_name": "Python 3",
   "language": "python",
   "name": "python3"
  },
  "language_info": {
   "codemirror_mode": {
    "name": "ipython",
    "version": 3
   },
   "file_extension": ".py",
   "mimetype": "text/x-python",
   "name": "python",
   "nbconvert_exporter": "python",
   "pygments_lexer": "ipython3",
   "version": "3.8.5"
  }
 },
 "nbformat": 4,
 "nbformat_minor": 5
}
