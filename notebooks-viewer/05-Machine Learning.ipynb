{
 "cells": [
  {
   "cell_type": "code",
   "execution_count": 1,
   "id": "worst-reservation",
   "metadata": {},
   "outputs": [],
   "source": [
    "import numpy as np"
   ]
  },
  {
   "cell_type": "code",
   "execution_count": 6,
   "id": "lesser-valuation",
   "metadata": {},
   "outputs": [],
   "source": [
    "X = np.load('/home/joaocarvoli/Desktop/All study/intro-DS/data-sets/X.npy')\n",
    "X_transf = np.load('/home/joaocarvoli/Desktop/All study/intro-DS/data-sets/X_transf.npy')\n",
    "y = np.load('/home/joaocarvoli/Desktop/All study/intro-DS/data-sets/y.npy')"
   ]
  },
  {
   "cell_type": "markdown",
   "id": "powerful-clause",
   "metadata": {},
   "source": [
    "### Loading data - features and labels"
   ]
  },
  {
   "cell_type": "markdown",
   "id": "black-refrigerator",
   "metadata": {},
   "source": [
    "#### This example wasn't made by me but I understand your operation"
   ]
  },
  {
   "cell_type": "code",
   "execution_count": 8,
   "id": "abroad-swimming",
   "metadata": {},
   "outputs": [],
   "source": [
    "from sklearn import model_selection\n",
    "from sklearn.linear_model import LogisticRegression\n",
    "from sklearn.metrics import accuracy_score"
   ]
  },
  {
   "cell_type": "code",
   "execution_count": 10,
   "id": "sufficient-mercy",
   "metadata": {},
   "outputs": [
    {
     "data": {
      "text/plain": [
       "'0.24.1'"
      ]
     },
     "execution_count": 10,
     "metadata": {},
     "output_type": "execute_result"
    }
   ],
   "source": [
    "import sklearn\n",
    "sklearn.__version__ # My Sckit Learning version"
   ]
  },
  {
   "cell_type": "markdown",
   "id": "right-arcade",
   "metadata": {},
   "source": [
    "## link to this solution:"
   ]
  },
  {
   "cell_type": "markdown",
   "id": "established-governor",
   "metadata": {},
   "source": [
    "https://github.com/ciencia-de-dados-pratica/praticas/blob/master/workshop-data-science/05-aprendizagem_maquina.ipynb"
   ]
  },
  {
   "cell_type": "markdown",
   "id": "prerequisite-aerospace",
   "metadata": {},
   "source": [
    "### I will continue but in the future..."
   ]
  }
 ],
 "metadata": {
  "kernelspec": {
   "display_name": "Python 3",
   "language": "python",
   "name": "python3"
  },
  "language_info": {
   "codemirror_mode": {
    "name": "ipython",
    "version": 3
   },
   "file_extension": ".py",
   "mimetype": "text/x-python",
   "name": "python",
   "nbconvert_exporter": "python",
   "pygments_lexer": "ipython3",
   "version": "3.8.5"
  }
 },
 "nbformat": 4,
 "nbformat_minor": 5
}
