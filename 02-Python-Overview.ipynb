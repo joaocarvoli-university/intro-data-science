{
 "cells": [
  {
   "cell_type": "markdown",
   "id": "banned-placement",
   "metadata": {},
   "source": [
    "# This review was based on Data School References:"
   ]
  },
  {
   "cell_type": "markdown",
   "id": "purple-title",
   "metadata": {},
   "source": [
    "It is the link if you wanna check: https://nbviewer.jupyter.org/github/justmarkham/python-reference/blob/master/reference.ipynb"
   ]
  },
  {
   "cell_type": "markdown",
   "id": "digital-worker",
   "metadata": {},
   "source": [
    "### 1. Imports:\n"
   ]
  },
  {
   "cell_type": "code",
   "execution_count": 8,
   "id": "limiting-external",
   "metadata": {},
   "outputs": [
    {
     "name": "stdout",
     "output_type": "stream",
     "text": [
      "The square is:5.0 \n",
      "The floor is:5 \n",
      "and The cos is:1.0\n"
     ]
    }
   ],
   "source": [
    "from math import sqrt, cos, floor # Using this names to import functions\n",
    "\n",
    "a = 25\n",
    "b = 5.95\n",
    "c = 0\n",
    "\n",
    "print(f'The square is:{sqrt(a)} \\nThe floor is:{floor(b)} \\nand The cos is:{cos(c)}')\n"
   ]
  },
  {
   "cell_type": "markdown",
   "id": "received-value",
   "metadata": {},
   "source": [
    "### 2. Lists:"
   ]
  },
  {
   "cell_type": "markdown",
   "id": "finished-cleanup",
   "metadata": {},
   "source": [
    "#### Putting, removing, showing..."
   ]
  },
  {
   "cell_type": "code",
   "execution_count": 17,
   "id": "square-proportion",
   "metadata": {},
   "outputs": [
    {
     "name": "stdout",
     "output_type": "stream",
     "text": [
      "['Homer', 'marge', 'bart']\n",
      "Homer\n",
      "['Homer', 'marge', 'bart', 'lisa']\n",
      "['maggie', 'Homer', 'marge', 'bart', 'lisa']\n",
      "['maggie', 'Homer', 'marge', 'lisa']\n",
      "['maggie', 'Homer', 'marge', 'bart', 'lisa']\n"
     ]
    }
   ],
   "source": [
    "simpsons = ['Homer','marge','bart']\n",
    "print(simpsons)\n",
    "print(simpsons[0])\n",
    "simpsons.append('lisa')\n",
    "print(simpsons)\n",
    "simpsons.insert(0,'maggie')\n",
    "print(simpsons)\n",
    "# simpsons.pop(3) --> In this way to remove You need to put the index / This form returns removed element\n",
    "simpsons.remove('bart') # You remove the element that content 'bart'\n",
    "print(simpsons)\n",
    "simpsons.insert(3,'bart')\n",
    "print(simpsons)"
   ]
  },
  {
   "cell_type": "markdown",
   "id": "industrial-working",
   "metadata": {},
   "source": [
    "#### Finding elements and slicing lists"
   ]
  },
  {
   "cell_type": "code",
   "execution_count": 22,
   "id": "medical-secretariat",
   "metadata": {},
   "outputs": [
    {
     "data": {
      "text/plain": [
       "1"
      ]
     },
     "execution_count": 22,
     "metadata": {},
     "output_type": "execute_result"
    }
   ],
   "source": [
    "simpsons.index('Homer') # It returns the element that is in this positionb"
   ]
  },
  {
   "cell_type": "code",
   "execution_count": 70,
   "id": "floral-archives",
   "metadata": {},
   "outputs": [
    {
     "name": "stdout",
     "output_type": "stream",
     "text": [
      "Ordered list:\n",
      "['friday', 'monday', 'saturday', 'thursday', 'tuesday', 'wednesday']\n",
      "\n",
      "Reverse form: \n",
      "['wednesday', 'tuesday', 'thursday', 'saturday', 'monday', 'friday']\n",
      "\n",
      "Back to initial list: \n",
      "['friday', 'monday', 'saturday', 'thursday', 'tuesday', 'wednesday']\n",
      "\n",
      "Sorting list by size: \n",
      "['friday', 'monday', 'saturday', 'thursday', 'tuesday', 'wednesday']\n",
      "\n"
     ]
    }
   ],
   "source": [
    "week = ['monday','tuesday','wednesday','thursday','friday','saturday']\n",
    "week.sort()\n",
    "print(f'Ordered list:\\n{week}\\n')\n",
    "\n",
    "week.sort(reverse=True) # Sort in reverse form\n",
    "print(f'Reverse form: \\n{week}\\n')\n",
    "\n",
    "week.sort(reverse=False)\n",
    "# sorted(week)\n",
    "print(f'Back to initial list: \\n{week}\\n')\n",
    "\n",
    "sorted(week, key=len)\n",
    "print(f'Sorting list by size: \\n{week}\\n')\n"
   ]
  }
 ],
 "metadata": {
  "kernelspec": {
   "display_name": "Python 3",
   "language": "python",
   "name": "python3"
  },
  "language_info": {
   "codemirror_mode": {
    "name": "ipython",
    "version": 3
   },
   "file_extension": ".py",
   "mimetype": "text/x-python",
   "name": "python",
   "nbconvert_exporter": "python",
   "pygments_lexer": "ipython3",
   "version": "3.8.5"
  }
 },
 "nbformat": 4,
 "nbformat_minor": 5
}
