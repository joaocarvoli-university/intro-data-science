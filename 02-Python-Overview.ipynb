{
 "cells": [
  {
   "cell_type": "markdown",
   "id": "banned-placement",
   "metadata": {},
   "source": [
    "# This review was based on Data School References:"
   ]
  },
  {
   "cell_type": "markdown",
   "id": "purple-title",
   "metadata": {},
   "source": [
    "It is the link if you wanna check: https://nbviewer.jupyter.org/github/justmarkham/python-reference/blob/master/reference.ipynb"
   ]
  },
  {
   "cell_type": "markdown",
   "id": "digital-worker",
   "metadata": {},
   "source": [
    "### 1. Imports:\n"
   ]
  },
  {
   "cell_type": "code",
   "execution_count": null,
   "id": "limiting-external",
   "metadata": {},
   "outputs": [],
   "source": [
    "from math import "
   ]
  },
  {
   "cell_type": "markdown",
   "id": "universal-newspaper",
   "metadata": {},
   "source": [
    "it isn't finished..."
   ]
  }
 ],
 "metadata": {
  "kernelspec": {
   "display_name": "Python 3",
   "language": "python",
   "name": "python3"
  },
  "language_info": {
   "codemirror_mode": {
    "name": "ipython",
    "version": 3
   },
   "file_extension": ".py",
   "mimetype": "text/x-python",
   "name": "python",
   "nbconvert_exporter": "python",
   "pygments_lexer": "ipython3",
   "version": "3.8.5"
  }
 },
 "nbformat": 4,
 "nbformat_minor": 5
}
