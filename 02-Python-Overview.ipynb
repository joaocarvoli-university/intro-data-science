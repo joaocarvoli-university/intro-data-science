{
 "cells": [
  {
   "cell_type": "markdown",
   "id": "banned-placement",
   "metadata": {},
   "source": [
    "# This review was based on Data School References:"
   ]
  },
  {
   "cell_type": "markdown",
   "id": "purple-title",
   "metadata": {},
   "source": [
    "It is the link if you wanna check: https://nbviewer.jupyter.org/github/justmarkham/python-reference/blob/master/reference.ipynb"
   ]
  },
  {
   "cell_type": "markdown",
   "id": "digital-worker",
   "metadata": {},
   "source": [
    "### 1. Imports:\n"
   ]
  },
  {
   "cell_type": "code",
   "execution_count": 8,
   "id": "limiting-external",
   "metadata": {},
   "outputs": [
    {
     "name": "stdout",
     "output_type": "stream",
     "text": [
      "The square is:5.0 \n",
      "The floor is:5 \n",
      "and The cos is:1.0\n"
     ]
    }
   ],
   "source": [
    "from math import sqrt, cos, floor # Using this names to import functions\n",
    "\n",
    "a = 25\n",
    "b = 5.95\n",
    "c = 0\n",
    "\n",
    "print(f'The square is:{sqrt(a)} \\nThe floor is:{floor(b)} \\nand The cos is:{cos(c)}')\n"
   ]
  },
  {
   "cell_type": "markdown",
   "id": "received-value",
   "metadata": {},
   "source": [
    "### 2. Lists:"
   ]
  },
  {
   "cell_type": "markdown",
   "id": "finished-cleanup",
   "metadata": {},
   "source": [
    "##### Putting, removing, showing..."
   ]
  },
  {
   "cell_type": "code",
   "execution_count": 17,
   "id": "square-proportion",
   "metadata": {},
   "outputs": [
    {
     "name": "stdout",
     "output_type": "stream",
     "text": [
      "['Homer', 'marge', 'bart']\n",
      "Homer\n",
      "['Homer', 'marge', 'bart', 'lisa']\n",
      "['maggie', 'Homer', 'marge', 'bart', 'lisa']\n",
      "['maggie', 'Homer', 'marge', 'lisa']\n",
      "['maggie', 'Homer', 'marge', 'bart', 'lisa']\n"
     ]
    }
   ],
   "source": [
    "simpsons = ['Homer','marge','bart']\n",
    "print(simpsons)\n",
    "print(simpsons[0])\n",
    "simpsons.append('lisa')\n",
    "print(simpsons)\n",
    "simpsons.insert(0,'maggie')\n",
    "print(simpsons)\n",
    "# simpsons.pop(3) --> In this way to remove You need to put the index / This form returns removed element\n",
    "simpsons.remove('bart') # You remove the element that content 'bart'\n",
    "print(simpsons)\n",
    "simpsons.insert(3,'bart')\n",
    "print(simpsons)"
   ]
  },
  {
   "cell_type": "markdown",
   "id": "industrial-working",
   "metadata": {},
   "source": [
    "##### Finding elements and slicing lists"
   ]
  },
  {
   "cell_type": "code",
   "execution_count": 22,
   "id": "medical-secretariat",
   "metadata": {},
   "outputs": [
    {
     "data": {
      "text/plain": [
       "1"
      ]
     },
     "execution_count": 22,
     "metadata": {},
     "output_type": "execute_result"
    }
   ],
   "source": [
    "simpsons.index('Homer') # It returns the element that is in this positionb"
   ]
  },
  {
   "cell_type": "code",
   "execution_count": 3,
   "id": "floral-archives",
   "metadata": {},
   "outputs": [
    {
     "name": "stdout",
     "output_type": "stream",
     "text": [
      "Ordered list:\n",
      "['friday', 'monday', 'saturday', 'thursday', 'tuesday', 'wednesday']\n",
      "\n",
      "Reverse form: \n",
      "['wednesday', 'tuesday', 'thursday', 'saturday', 'monday', 'friday']\n",
      "\n",
      "Back to initial list: \n",
      "['friday', 'monday', 'saturday', 'thursday', 'tuesday', 'wednesday']\n",
      "\n",
      "Sorting list by size: \n",
      "['friday', 'monday', 'saturday', 'thursday', 'tuesday', 'wednesday']\n",
      "\n"
     ]
    }
   ],
   "source": [
    "week = ['monday','tuesday','wednesday','thursday','friday','saturday']\n",
    "week.sort()\n",
    "print(f'Ordered list:\\n{week}\\n')\n",
    "\n",
    "week.sort(reverse=True) # Sort in reverse form\n",
    "print(f'Reverse form: \\n{week}\\n')\n",
    "\n",
    "week.sort(reverse=False)\n",
    "# sorted(week)\n",
    "print(f'Back to initial list: \\n{week}\\n')\n",
    "\n",
    "sorted(week, key=len)\n",
    "print(f'Sorting list by size: \\n{week}\\n')\n",
    "\n",
    "# list(reversed(week)) <-- It's used to show reversed list\n"
   ]
  },
  {
   "cell_type": "markdown",
   "id": "usual-rapid",
   "metadata": {},
   "source": [
    "##### Testing insort function"
   ]
  },
  {
   "cell_type": "code",
   "execution_count": 28,
   "id": "psychological-anxiety",
   "metadata": {},
   "outputs": [
    {
     "name": "stdout",
     "output_type": "stream",
     "text": [
      "[15, 25, 35, 45, 55]\n",
      "It's the numbers list before a copy\n",
      "[15, 25, 35, 45, 55]\n",
      "\n",
      "[15, 25, 35, 45, 55]\n",
      "[0, 25, 35, 45, 55]\n"
     ]
    }
   ],
   "source": [
    "numbers = [15, 25, 45, 55]\n",
    "from bisect import insort\n",
    "insort(numbers, 35) # This function put a number on the list and keep it ordered\n",
    "print(numbers)\n"
   ]
  },
  {
   "cell_type": "markdown",
   "id": "banner-somewhere",
   "metadata": {},
   "source": [
    "##### Copy types\n"
   ]
  },
  {
   "cell_type": "code",
   "execution_count": 36,
   "id": "missing-capture",
   "metadata": {},
   "outputs": [
    {
     "name": "stdout",
     "output_type": "stream",
     "text": [
      "It's the numbers list before a copy\n",
      "[15, 25, 45, 55]\n",
      "\n",
      "Initial list: [15, 25, 45, 55]\n",
      "Deep copy: [0, 25, 45, 55]\n",
      "Shallow copy: [15, 25, 45, 55]\n"
     ]
    }
   ],
   "source": [
    "numbers = [15, 25, 45, 55]\n",
    "\n",
    "deep_list = numbers.copy()\n",
    "shallow_list = numbers\n",
    "print(f\"It's the numbers list before a copy\\n{numbers}\\n\")\n",
    "deep_list[0] = 0\n",
    "# shallow_list[0] = 0 # This change hits original list\n",
    "\n",
    "print(f'Initial list: {numbers}')\n",
    "print(f'Deep copy: {second_list}')\n",
    "print(f'Shallow copy: {shallow_list}') "
   ]
  },
  {
   "cell_type": "markdown",
   "id": "received-gothic",
   "metadata": {},
   "source": [
    "### 3. Tuples:"
   ]
  },
  {
   "cell_type": "markdown",
   "id": "forced-literature",
   "metadata": {},
   "source": [
    "* This data structure is unchangeable\n",
    "* They can contain different data types\n",
    "* You can use it how a list but with some limitations......\n"
   ]
  },
  {
   "cell_type": "code",
   "execution_count": 44,
   "id": "universal-kazakhstan",
   "metadata": {},
   "outputs": [
    {
     "name": "stdout",
     "output_type": "stream",
     "text": [
      "(3, 2, 3, 2)\n",
      "[2, 2, 3, 3]\n"
     ]
    }
   ],
   "source": [
    "num = (3,2)\n",
    "# num += 2 <-- If you execute this line, there will be a wrong\n",
    "num *= 2\n",
    "print(num)\n",
    "print(sorted(num))\n"
   ]
  },
  {
   "cell_type": "code",
   "execution_count": 48,
   "id": "divided-depth",
   "metadata": {},
   "outputs": [
    {
     "name": "stdout",
     "output_type": "stream",
     "text": [
      "João \n",
      " male \n",
      " 18\n"
     ]
    }
   ],
   "source": [
    "house = ('male','João',18)\n",
    "(sex,name,age) = house # assign values at a tuple\n",
    "print(name,'\\n',sex,'\\n',age)"
   ]
  },
  {
   "cell_type": "markdown",
   "id": "funded-bracket",
   "metadata": {},
   "source": [
    "### 4. Strings:"
   ]
  },
  {
   "cell_type": "code",
   "execution_count": 51,
   "id": "municipal-province",
   "metadata": {},
   "outputs": [
    {
     "name": "stdout",
     "output_type": "stream",
     "text": [
      "<class 'str'> 50\n"
     ]
    }
   ],
   "source": [
    "# converting another data in string\n",
    "s = str(50)\n",
    "print(type(s),s)"
   ]
  },
  {
   "cell_type": "code",
   "execution_count": 60,
   "id": "respiratory-jackson",
   "metadata": {},
   "outputs": [
    {
     "name": "stdout",
     "output_type": "stream",
     "text": [
      "The first elemment in a list is: H\n",
      "The size list is: 13\n",
      "The elements that are in the position 0 to 6, are...: Hello,\n",
      "The elements that are in the position 7 to end, are...: world!\n"
     ]
    }
   ],
   "source": [
    "# creating a string and show some functions\n",
    "s = 'Hello, world!'\n",
    "print(f'The first elemment in a list is: {s[0]}')\n",
    "print(f'The size list is: {len(s)}')\n",
    "print(f'The elements that are in the position 0 to 6, are...: {s[:6]}')\n",
    "print(f'The elements that are in the position 7 to end, are...: {s[7:]}')\n"
   ]
  },
  {
   "cell_type": "markdown",
   "id": "social-uncertainty",
   "metadata": {},
   "source": [
    "##### This functions bellow not modify a original string"
   ]
  }
 ],
 "metadata": {
  "kernelspec": {
   "display_name": "Python 3",
   "language": "python",
   "name": "python3"
  },
  "language_info": {
   "codemirror_mode": {
    "name": "ipython",
    "version": 3
   },
   "file_extension": ".py",
   "mimetype": "text/x-python",
   "name": "python",
   "nbconvert_exporter": "python",
   "pygments_lexer": "ipython3",
   "version": "3.8.5"
  }
 },
 "nbformat": 4,
 "nbformat_minor": 5
}
