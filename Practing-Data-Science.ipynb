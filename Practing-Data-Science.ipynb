{
 "cells": [
  {
   "cell_type": "markdown",
   "id": "rotary-macro",
   "metadata": {},
   "source": [
    "# Introduction"
   ]
  },
  {
   "cell_type": "code",
   "execution_count": null,
   "id": "abandoned-subdivision",
   "metadata": {},
   "outputs": [],
   "source": [
    "print('Hello, world!')''"
   ]
  },
  {
   "cell_type": "code",
   "execution_count": null,
   "id": "american-disposal",
   "metadata": {},
   "outputs": [
    {
     "name": "stdout",
     "output_type": "stream",
     "text": [
      "0\n",
      "CPU times: user 92 µs, sys: 0 ns, total: 92 µs\n",
      "Wall time: 509 µs\n",
      "1\n",
      "CPU times: user 12 µs, sys: 3 µs, total: 15 µs\n",
      "Wall time: 25.3 µs\n",
      "2\n",
      "CPU times: user 15 µs, sys: 0 ns, total: 15 µs\n",
      "Wall time: 27.4 µs\n",
      "3\n",
      "CPU times: user 17 µs, sys: 0 ns, total: 17 µs\n",
      "Wall time: 29.3 µs\n",
      "4\n",
      "CPU times: user 13 µs, sys: 0 ns, total: 13 µs\n",
      "Wall time: 22.6 µs\n",
      "5\n",
      "CPU times: user 27 µs, sys: 0 ns, total: 27 µs\n",
      "Wall time: 42.9 µs\n",
      "6\n",
      "CPU times: user 9 µs, sys: 0 ns, total: 9 µs\n",
      "Wall time: 17.4 µs\n",
      "7\n",
      "CPU times: user 14 µs, sys: 0 ns, total: 14 µs\n",
      "Wall time: 24.3 µs\n"
     ]
    }
   ],
   "source": [
    "%%time \n",
    "# This % will tell you how long it took to execute in this cell\n",
    "import time\n",
    "for i in range(10):\n",
    "    print(i)\n",
    "    %time # This % will tell you how long it took to execute in this line\n",
    "    time.sleep(1)\n",
    "\n"
   ]
  },
  {
   "cell_type": "code",
   "execution_count": null,
   "id": "broad-relations",
   "metadata": {},
   "outputs": [],
   "source": []
  }
 ],
 "metadata": {
  "kernelspec": {
   "display_name": "Python 3",
   "language": "python",
   "name": "python3"
  },
  "language_info": {
   "codemirror_mode": {
    "name": "ipython",
    "version": 3
   },
   "file_extension": ".py",
   "mimetype": "text/x-python",
   "name": "python",
   "nbconvert_exporter": "python",
   "pygments_lexer": "ipython3",
   "version": "3.8.5"
  }
 },
 "nbformat": 4,
 "nbformat_minor": 5
}
