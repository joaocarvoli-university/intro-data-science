{
 "cells": [
  {
   "cell_type": "markdown",
   "id": "rotary-macro",
   "metadata": {},
   "source": [
    "# Introduction"
   ]
  },
  {
   "cell_type": "code",
   "execution_count": null,
   "id": "abandoned-subdivision",
   "metadata": {},
   "outputs": [],
   "source": [
    "print('Hello, world!')''"
   ]
  },
  {
   "cell_type": "code",
   "execution_count": null,
   "id": "broad-relations",
   "metadata": {},
   "outputs": [],
   "source": [
    "%%time \n",
    "# This % will tell you how long it took to execute in this cell\n",
    "import time\n",
    "for i in range(10):\n",
    "    print(i)\n",
    "    %time # This % will tell you how long it took to execute in this line\n",
    "    time.sleep(1)\n"
   ]
  }
 ],
 "metadata": {
  "kernelspec": {
   "display_name": "Python 3",
   "language": "python",
   "name": "python3"
  },
  "language_info": {
   "codemirror_mode": {
    "name": "ipython",
    "version": 3
   },
   "file_extension": ".py",
   "mimetype": "text/x-python",
   "name": "python",
   "nbconvert_exporter": "python",
   "pygments_lexer": "ipython3",
   "version": "3.8.5"
  }
 },
 "nbformat": 4,
 "nbformat_minor": 5
}
